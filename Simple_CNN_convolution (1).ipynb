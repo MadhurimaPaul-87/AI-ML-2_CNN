{
  "nbformat": 4,
  "nbformat_minor": 0,
  "metadata": {
    "colab": {
      "provenance": []
    },
    "kernelspec": {
      "name": "python3",
      "display_name": "Python 3"
    },
    "language_info": {
      "name": "python"
    }
  },
  "cells": [
    {
      "cell_type": "code",
      "execution_count": 1,
      "metadata": {
        "id": "S5nlrkwO_r-9"
      },
      "outputs": [],
      "source": [
        "import tensorflow as tf\n",
        "from tensorflow.keras.layers import Input, Dense, Conv2D, MaxPooling2D, Flatten, Dropout\n",
        "from keras.models import Sequential, Model"
      ]
    },
    {
      "cell_type": "code",
      "source": [
        "model_cnn = Sequential([\n",
        "    Conv2D(64, 3, input_shape=(128,128,1), use_bias=True, ),\n",
        "    MaxPooling2D(pool_size=4),\n",
        "    Flatten(),\n",
        "    Dropout(0.5),\n",
        "    Dense(1, activation='softmax')\n",
        "])"
      ],
      "metadata": {
        "id": "xI4WpEF5_2Au"
      },
      "execution_count": 3,
      "outputs": []
    },
    {
      "cell_type": "code",
      "source": [
        "model_cnn.summary()"
      ],
      "metadata": {
        "colab": {
          "base_uri": "https://localhost:8080/",
          "height": 295
        },
        "id": "HI83ps_m_5mh",
        "outputId": "9eb0e68f-18f0-4d21-a08c-1e3a38b55ccc"
      },
      "execution_count": 4,
      "outputs": [
        {
          "output_type": "display_data",
          "data": {
            "text/plain": [
              "\u001b[1mModel: \"sequential_1\"\u001b[0m\n"
            ],
            "text/html": [
              "<pre style=\"white-space:pre;overflow-x:auto;line-height:normal;font-family:Menlo,'DejaVu Sans Mono',consolas,'Courier New',monospace\"><span style=\"font-weight: bold\">Model: \"sequential_1\"</span>\n",
              "</pre>\n"
            ]
          },
          "metadata": {}
        },
        {
          "output_type": "display_data",
          "data": {
            "text/plain": [
              "┏━━━━━━━━━━━━━━━━━━━━━━━━━━━━━━━━━━━━━━┳━━━━━━━━━━━━━━━━━━━━━━━━━━━━━┳━━━━━━━━━━━━━━━━━┓\n",
              "┃\u001b[1m \u001b[0m\u001b[1mLayer (type)                        \u001b[0m\u001b[1m \u001b[0m┃\u001b[1m \u001b[0m\u001b[1mOutput Shape               \u001b[0m\u001b[1m \u001b[0m┃\u001b[1m \u001b[0m\u001b[1m        Param #\u001b[0m\u001b[1m \u001b[0m┃\n",
              "┡━━━━━━━━━━━━━━━━━━━━━━━━━━━━━━━━━━━━━━╇━━━━━━━━━━━━━━━━━━━━━━━━━━━━━╇━━━━━━━━━━━━━━━━━┩\n",
              "│ conv2d_1 (\u001b[38;5;33mConv2D\u001b[0m)                    │ (\u001b[38;5;45mNone\u001b[0m, \u001b[38;5;34m126\u001b[0m, \u001b[38;5;34m126\u001b[0m, \u001b[38;5;34m64\u001b[0m)        │             \u001b[38;5;34m640\u001b[0m │\n",
              "├──────────────────────────────────────┼─────────────────────────────┼─────────────────┤\n",
              "│ max_pooling2d_1 (\u001b[38;5;33mMaxPooling2D\u001b[0m)       │ (\u001b[38;5;45mNone\u001b[0m, \u001b[38;5;34m31\u001b[0m, \u001b[38;5;34m31\u001b[0m, \u001b[38;5;34m64\u001b[0m)          │               \u001b[38;5;34m0\u001b[0m │\n",
              "├──────────────────────────────────────┼─────────────────────────────┼─────────────────┤\n",
              "│ flatten_1 (\u001b[38;5;33mFlatten\u001b[0m)                  │ (\u001b[38;5;45mNone\u001b[0m, \u001b[38;5;34m61504\u001b[0m)               │               \u001b[38;5;34m0\u001b[0m │\n",
              "├──────────────────────────────────────┼─────────────────────────────┼─────────────────┤\n",
              "│ dropout_1 (\u001b[38;5;33mDropout\u001b[0m)                  │ (\u001b[38;5;45mNone\u001b[0m, \u001b[38;5;34m61504\u001b[0m)               │               \u001b[38;5;34m0\u001b[0m │\n",
              "├──────────────────────────────────────┼─────────────────────────────┼─────────────────┤\n",
              "│ dense_1 (\u001b[38;5;33mDense\u001b[0m)                      │ (\u001b[38;5;45mNone\u001b[0m, \u001b[38;5;34m1\u001b[0m)                   │          \u001b[38;5;34m61,505\u001b[0m │\n",
              "└──────────────────────────────────────┴─────────────────────────────┴─────────────────┘\n"
            ],
            "text/html": [
              "<pre style=\"white-space:pre;overflow-x:auto;line-height:normal;font-family:Menlo,'DejaVu Sans Mono',consolas,'Courier New',monospace\">┏━━━━━━━━━━━━━━━━━━━━━━━━━━━━━━━━━━━━━━┳━━━━━━━━━━━━━━━━━━━━━━━━━━━━━┳━━━━━━━━━━━━━━━━━┓\n",
              "┃<span style=\"font-weight: bold\"> Layer (type)                         </span>┃<span style=\"font-weight: bold\"> Output Shape                </span>┃<span style=\"font-weight: bold\">         Param # </span>┃\n",
              "┡━━━━━━━━━━━━━━━━━━━━━━━━━━━━━━━━━━━━━━╇━━━━━━━━━━━━━━━━━━━━━━━━━━━━━╇━━━━━━━━━━━━━━━━━┩\n",
              "│ conv2d_1 (<span style=\"color: #0087ff; text-decoration-color: #0087ff\">Conv2D</span>)                    │ (<span style=\"color: #00d7ff; text-decoration-color: #00d7ff\">None</span>, <span style=\"color: #00af00; text-decoration-color: #00af00\">126</span>, <span style=\"color: #00af00; text-decoration-color: #00af00\">126</span>, <span style=\"color: #00af00; text-decoration-color: #00af00\">64</span>)        │             <span style=\"color: #00af00; text-decoration-color: #00af00\">640</span> │\n",
              "├──────────────────────────────────────┼─────────────────────────────┼─────────────────┤\n",
              "│ max_pooling2d_1 (<span style=\"color: #0087ff; text-decoration-color: #0087ff\">MaxPooling2D</span>)       │ (<span style=\"color: #00d7ff; text-decoration-color: #00d7ff\">None</span>, <span style=\"color: #00af00; text-decoration-color: #00af00\">31</span>, <span style=\"color: #00af00; text-decoration-color: #00af00\">31</span>, <span style=\"color: #00af00; text-decoration-color: #00af00\">64</span>)          │               <span style=\"color: #00af00; text-decoration-color: #00af00\">0</span> │\n",
              "├──────────────────────────────────────┼─────────────────────────────┼─────────────────┤\n",
              "│ flatten_1 (<span style=\"color: #0087ff; text-decoration-color: #0087ff\">Flatten</span>)                  │ (<span style=\"color: #00d7ff; text-decoration-color: #00d7ff\">None</span>, <span style=\"color: #00af00; text-decoration-color: #00af00\">61504</span>)               │               <span style=\"color: #00af00; text-decoration-color: #00af00\">0</span> │\n",
              "├──────────────────────────────────────┼─────────────────────────────┼─────────────────┤\n",
              "│ dropout_1 (<span style=\"color: #0087ff; text-decoration-color: #0087ff\">Dropout</span>)                  │ (<span style=\"color: #00d7ff; text-decoration-color: #00d7ff\">None</span>, <span style=\"color: #00af00; text-decoration-color: #00af00\">61504</span>)               │               <span style=\"color: #00af00; text-decoration-color: #00af00\">0</span> │\n",
              "├──────────────────────────────────────┼─────────────────────────────┼─────────────────┤\n",
              "│ dense_1 (<span style=\"color: #0087ff; text-decoration-color: #0087ff\">Dense</span>)                      │ (<span style=\"color: #00d7ff; text-decoration-color: #00d7ff\">None</span>, <span style=\"color: #00af00; text-decoration-color: #00af00\">1</span>)                   │          <span style=\"color: #00af00; text-decoration-color: #00af00\">61,505</span> │\n",
              "└──────────────────────────────────────┴─────────────────────────────┴─────────────────┘\n",
              "</pre>\n"
            ]
          },
          "metadata": {}
        },
        {
          "output_type": "display_data",
          "data": {
            "text/plain": [
              "\u001b[1m Total params: \u001b[0m\u001b[38;5;34m62,145\u001b[0m (242.75 KB)\n"
            ],
            "text/html": [
              "<pre style=\"white-space:pre;overflow-x:auto;line-height:normal;font-family:Menlo,'DejaVu Sans Mono',consolas,'Courier New',monospace\"><span style=\"font-weight: bold\"> Total params: </span><span style=\"color: #00af00; text-decoration-color: #00af00\">62,145</span> (242.75 KB)\n",
              "</pre>\n"
            ]
          },
          "metadata": {}
        },
        {
          "output_type": "display_data",
          "data": {
            "text/plain": [
              "\u001b[1m Trainable params: \u001b[0m\u001b[38;5;34m62,145\u001b[0m (242.75 KB)\n"
            ],
            "text/html": [
              "<pre style=\"white-space:pre;overflow-x:auto;line-height:normal;font-family:Menlo,'DejaVu Sans Mono',consolas,'Courier New',monospace\"><span style=\"font-weight: bold\"> Trainable params: </span><span style=\"color: #00af00; text-decoration-color: #00af00\">62,145</span> (242.75 KB)\n",
              "</pre>\n"
            ]
          },
          "metadata": {}
        },
        {
          "output_type": "display_data",
          "data": {
            "text/plain": [
              "\u001b[1m Non-trainable params: \u001b[0m\u001b[38;5;34m0\u001b[0m (0.00 B)\n"
            ],
            "text/html": [
              "<pre style=\"white-space:pre;overflow-x:auto;line-height:normal;font-family:Menlo,'DejaVu Sans Mono',consolas,'Courier New',monospace\"><span style=\"font-weight: bold\"> Non-trainable params: </span><span style=\"color: #00af00; text-decoration-color: #00af00\">0</span> (0.00 B)\n",
              "</pre>\n"
            ]
          },
          "metadata": {}
        }
      ]
    },
    {
      "cell_type": "code",
      "source": [
        "model_cnn.save('simple_cnn.h5')"
      ],
      "metadata": {
        "colab": {
          "base_uri": "https://localhost:8080/"
        },
        "id": "NJRA-LcadpMW",
        "outputId": "4064b2f3-c528-4da8-c01f-ceb64c073cf6"
      },
      "execution_count": 5,
      "outputs": [
        {
          "output_type": "stream",
          "name": "stderr",
          "text": [
            "WARNING:absl:You are saving your model as an HDF5 file via `model.save()` or `keras.saving.save_model(model)`. This file format is considered legacy. We recommend using instead the native Keras format, e.g. `model.save('my_model.keras')` or `keras.saving.save_model(model, 'my_model.keras')`. \n"
          ]
        }
      ]
    },
    {
      "cell_type": "code",
      "source": [
        "input_shape = (4, 28, 28, 3)"
      ],
      "metadata": {
        "id": "Ft_WfNNp_6LT"
      },
      "execution_count": 6,
      "outputs": []
    },
    {
      "cell_type": "code",
      "source": [
        "x = tf.random.normal(input_shape)"
      ],
      "metadata": {
        "id": "XMWAHKteBzvz"
      },
      "execution_count": 7,
      "outputs": []
    },
    {
      "cell_type": "code",
      "source": [
        "x.shape"
      ],
      "metadata": {
        "colab": {
          "base_uri": "https://localhost:8080/"
        },
        "id": "txqo7lcmVCtq",
        "outputId": "422fd0f4-ad22-4853-b8db-974e1eb5ccb0"
      },
      "execution_count": 8,
      "outputs": [
        {
          "output_type": "execute_result",
          "data": {
            "text/plain": [
              "TensorShape([4, 28, 28, 3])"
            ]
          },
          "metadata": {},
          "execution_count": 8
        }
      ]
    },
    {
      "cell_type": "code",
      "source": [
        "input_shape[1:]"
      ],
      "metadata": {
        "colab": {
          "base_uri": "https://localhost:8080/"
        },
        "id": "i_2x8g8UCGTl",
        "outputId": "44f733ed-d242-4b3b-c7cd-bf2b8338f617"
      },
      "execution_count": 9,
      "outputs": [
        {
          "output_type": "execute_result",
          "data": {
            "text/plain": [
              "(28, 28, 3)"
            ]
          },
          "metadata": {},
          "execution_count": 9
        }
      ]
    },
    {
      "cell_type": "code",
      "source": [
        "y = Conv2D(2, 2, activation='relu', input_shape=input_shape[1:])(x)\n",
        "#y = Conv2D(2, 3, activation='relu', input_shape=input_shape[1:])(x)\n",
        "#y = Conv2D(2, 4, activation='relu', input_shape=input_shape[1:])(x)\n",
        "#y = Conv2D(2, [3,2], activation='relu', input_shape=input_shape[1:])(x)\n"
      ],
      "metadata": {
        "id": "BoFEIuJNB2JD"
      },
      "execution_count": 10,
      "outputs": []
    },
    {
      "cell_type": "code",
      "source": [
        "y.shape"
      ],
      "metadata": {
        "colab": {
          "base_uri": "https://localhost:8080/"
        },
        "id": "WSAmnP5OB4r8",
        "outputId": "2ad00667-23e3-45d7-abfe-69b5f4978d41"
      },
      "execution_count": 11,
      "outputs": [
        {
          "output_type": "execute_result",
          "data": {
            "text/plain": [
              "TensorShape([4, 27, 27, 2])"
            ]
          },
          "metadata": {},
          "execution_count": 11
        }
      ]
    },
    {
      "cell_type": "code",
      "source": [
        "y[0].shape"
      ],
      "metadata": {
        "colab": {
          "base_uri": "https://localhost:8080/"
        },
        "id": "y7X1RkBoQexZ",
        "outputId": "603b2682-aab3-4823-8dc0-2e7ec52ef263"
      },
      "execution_count": 12,
      "outputs": [
        {
          "output_type": "execute_result",
          "data": {
            "text/plain": [
              "TensorShape([27, 27, 2])"
            ]
          },
          "metadata": {},
          "execution_count": 12
        }
      ]
    },
    {
      "cell_type": "code",
      "source": [
        "z = MaxPooling2D(pool_size=3, strides=3)(y)"
      ],
      "metadata": {
        "id": "NOExHnmwDDN1"
      },
      "execution_count": 13,
      "outputs": []
    },
    {
      "cell_type": "code",
      "source": [
        "z.shape"
      ],
      "metadata": {
        "colab": {
          "base_uri": "https://localhost:8080/"
        },
        "id": "Tg5prbZeMMJQ",
        "outputId": "86a793c0-64ab-4f0b-feb4-5b83c2f74881"
      },
      "execution_count": 14,
      "outputs": [
        {
          "output_type": "execute_result",
          "data": {
            "text/plain": [
              "TensorShape([4, 9, 9, 2])"
            ]
          },
          "metadata": {},
          "execution_count": 14
        }
      ]
    },
    {
      "cell_type": "code",
      "source": [
        "z[0].shape"
      ],
      "metadata": {
        "colab": {
          "base_uri": "https://localhost:8080/"
        },
        "id": "YA9pfyqCQgy1",
        "outputId": "30620a5b-0470-447d-812b-2ad6e9637f0b"
      },
      "execution_count": 15,
      "outputs": [
        {
          "output_type": "execute_result",
          "data": {
            "text/plain": [
              "TensorShape([9, 9, 2])"
            ]
          },
          "metadata": {},
          "execution_count": 15
        }
      ]
    },
    {
      "cell_type": "code",
      "source": [
        "ab = Flatten()(z)"
      ],
      "metadata": {
        "id": "AUw4y5dUDsFW"
      },
      "execution_count": 16,
      "outputs": []
    },
    {
      "cell_type": "code",
      "source": [
        "ab.shape"
      ],
      "metadata": {
        "colab": {
          "base_uri": "https://localhost:8080/"
        },
        "id": "Cv5DYemqDs3v",
        "outputId": "28df691c-924a-4ae0-cfdf-bddb5ec765db"
      },
      "execution_count": 17,
      "outputs": [
        {
          "output_type": "execute_result",
          "data": {
            "text/plain": [
              "TensorShape([4, 162])"
            ]
          },
          "metadata": {},
          "execution_count": 17
        }
      ]
    },
    {
      "cell_type": "code",
      "source": [
        "ab[0].shape"
      ],
      "metadata": {
        "colab": {
          "base_uri": "https://localhost:8080/"
        },
        "id": "ROj3CGP7QT4A",
        "outputId": "a3d1cd6d-00de-4c98-8064-a63ce4d0a631"
      },
      "execution_count": 18,
      "outputs": [
        {
          "output_type": "execute_result",
          "data": {
            "text/plain": [
              "TensorShape([162])"
            ]
          },
          "metadata": {},
          "execution_count": 18
        }
      ]
    },
    {
      "cell_type": "code",
      "source": [
        "abz = Dropout(0.5,  noise_shape=None, seed=10)(ab)"
      ],
      "metadata": {
        "id": "etzePy42MB6m"
      },
      "execution_count": 19,
      "outputs": []
    },
    {
      "cell_type": "code",
      "source": [
        "abz.shape"
      ],
      "metadata": {
        "colab": {
          "base_uri": "https://localhost:8080/"
        },
        "id": "k1bOCHzTP9Rv",
        "outputId": "3b17c973-cfc5-4d3f-a7f5-4b0b9385996c"
      },
      "execution_count": 20,
      "outputs": [
        {
          "output_type": "execute_result",
          "data": {
            "text/plain": [
              "TensorShape([4, 162])"
            ]
          },
          "metadata": {},
          "execution_count": 20
        }
      ]
    },
    {
      "cell_type": "code",
      "source": [
        "abz[0]"
      ],
      "metadata": {
        "colab": {
          "base_uri": "https://localhost:8080/"
        },
        "id": "2B1Z_2eaQPU_",
        "outputId": "58648563-7b60-452b-dc33-915f60db29ee"
      },
      "execution_count": 21,
      "outputs": [
        {
          "output_type": "execute_result",
          "data": {
            "text/plain": [
              "<tf.Tensor: shape=(162,), dtype=float32, numpy=\n",
              "array([1.4975202 , 2.2460663 , 2.068832  , 1.1108522 , 2.146647  ,\n",
              "       0.7562423 , 1.7535814 , 1.7017889 , 2.2866676 , 0.8738275 ,\n",
              "       1.0932899 , 2.685424  , 1.6882848 , 1.0964241 , 1.0484043 ,\n",
              "       0.9370376 , 1.3411849 , 0.9352224 , 2.3294833 , 1.6116383 ,\n",
              "       1.9972193 , 0.51553494, 1.0983983 , 1.6466842 , 1.155233  ,\n",
              "       1.5289662 , 1.8781133 , 0.809777  , 1.6155486 , 1.4915042 ,\n",
              "       2.7111068 , 1.2171519 , 3.2441564 , 1.0271186 , 1.9115641 ,\n",
              "       1.5433967 , 1.1570873 , 0.84880996, 1.4964309 , 1.7392683 ,\n",
              "       1.5466511 , 1.5290321 , 2.4921567 , 1.7994876 , 1.3859011 ,\n",
              "       0.550746  , 1.5592884 , 0.5769222 , 1.1621573 , 0.8895919 ,\n",
              "       3.1457853 , 2.9612868 , 1.0676527 , 1.6059518 , 0.8619251 ,\n",
              "       2.1442199 , 2.421272  , 2.4089484 , 2.6084456 , 1.3563275 ,\n",
              "       1.5116154 , 1.3219273 , 1.42456   , 0.4944952 , 0.53157043,\n",
              "       2.4445271 , 1.5312268 , 1.3460697 , 1.2529498 , 1.1308441 ,\n",
              "       1.298017  , 1.2438076 , 1.93783   , 1.6538818 , 0.71740156,\n",
              "       1.6717906 , 2.263008  , 2.6933088 , 1.3834856 , 0.6115261 ,\n",
              "       1.4034237 , 1.2223989 , 2.1059854 , 0.68547255, 0.475128  ,\n",
              "       1.1156273 , 1.9464967 , 1.603711  , 1.7585721 , 1.2078645 ,\n",
              "       2.6176221 , 2.984352  , 1.9720972 , 0.37984657, 1.1860932 ,\n",
              "       2.527738  , 1.5201066 , 1.8047187 , 1.4044495 , 1.2549721 ,\n",
              "       0.90979475, 0.65125287, 2.2360668 , 1.2937498 , 2.202136  ,\n",
              "       1.6291076 , 1.797257  , 1.89062   , 2.9966025 , 1.6956749 ,\n",
              "       1.3848563 , 2.6742501 , 2.448603  , 1.7073555 , 0.5454536 ,\n",
              "       1.2986286 , 1.2789245 , 0.5516665 , 1.4614301 , 1.4650067 ,\n",
              "       2.2108216 , 0.98328745, 2.001565  , 1.6562278 , 1.3709441 ,\n",
              "       0.43314028, 1.2363296 , 1.3287723 , 1.5100597 , 2.6343944 ,\n",
              "       2.4030647 , 1.3883631 , 2.762209  , 1.5609766 , 0.97622705,\n",
              "       1.7291842 , 2.0481188 , 1.7508109 , 1.9603359 , 1.5405825 ,\n",
              "       1.2255042 , 1.5376111 , 1.0906935 , 1.9168451 , 2.1327186 ,\n",
              "       1.9823763 , 1.3664135 , 1.5261045 , 1.1783645 , 2.6986635 ,\n",
              "       3.3159733 , 1.4952949 , 1.2526064 , 1.5586674 , 2.5922801 ,\n",
              "       0.05434221, 1.5983676 , 1.057234  , 2.97472   , 0.9492843 ,\n",
              "       1.1952728 , 2.2592854 ], dtype=float32)>"
            ]
          },
          "metadata": {},
          "execution_count": 21
        }
      ]
    },
    {
      "cell_type": "code",
      "source": [
        "final = Dense(10, activation='softmax')(abz)"
      ],
      "metadata": {
        "id": "dbYNAs3LQRF5"
      },
      "execution_count": 22,
      "outputs": []
    },
    {
      "cell_type": "code",
      "source": [
        "final"
      ],
      "metadata": {
        "colab": {
          "base_uri": "https://localhost:8080/"
        },
        "id": "WXDqZ9GbS9AK",
        "outputId": "5b2043d9-1327-4e41-fc03-8c3b25700fc1"
      },
      "execution_count": 23,
      "outputs": [
        {
          "output_type": "execute_result",
          "data": {
            "text/plain": [
              "<tf.Tensor: shape=(4, 10), dtype=float32, numpy=\n",
              "array([[7.8575913e-04, 4.4075344e-04, 1.0256187e-01, 4.9626686e-02,\n",
              "        2.5178581e-03, 2.7509263e-02, 3.0511909e-04, 3.3111949e-02,\n",
              "        6.8862280e-03, 7.7625453e-01],\n",
              "       [7.6278388e-03, 5.8188047e-03, 3.4531578e-01, 2.1793991e-02,\n",
              "        9.7102141e-03, 1.0194173e-02, 7.1322144e-04, 3.3464527e-01,\n",
              "        1.8737739e-02, 2.4544293e-01],\n",
              "       [1.0217120e-03, 1.4026726e-03, 2.5279546e-01, 8.0124848e-02,\n",
              "        5.5803480e-03, 3.0257652e-02, 2.1934628e-03, 1.7252007e-01,\n",
              "        3.4571127e-03, 4.5064661e-01],\n",
              "       [1.1768392e-03, 4.1635367e-03, 1.0725942e-01, 2.2918537e-02,\n",
              "        5.5581313e-02, 7.1615942e-02, 6.3133300e-03, 1.4810477e-01,\n",
              "        4.7442093e-03, 5.7812208e-01]], dtype=float32)>"
            ]
          },
          "metadata": {},
          "execution_count": 23
        }
      ]
    },
    {
      "cell_type": "code",
      "source": [
        "final_relu = Dense(10, activation='relu')(abz)"
      ],
      "metadata": {
        "id": "9_T8vfJRS-NC"
      },
      "execution_count": 24,
      "outputs": []
    },
    {
      "cell_type": "code",
      "source": [
        "final_relu"
      ],
      "metadata": {
        "colab": {
          "base_uri": "https://localhost:8080/"
        },
        "id": "IIf4NkabTLBH",
        "outputId": "b3fe72a5-8434-4cd6-b123-f0b6d17ab9a8"
      },
      "execution_count": 25,
      "outputs": [
        {
          "output_type": "execute_result",
          "data": {
            "text/plain": [
              "<tf.Tensor: shape=(4, 10), dtype=float32, numpy=\n",
              "array([[5.2680554 , 0.6666809 , 0.        , 5.785929  , 0.        ,\n",
              "        4.2804623 , 0.        , 0.8665559 , 2.39625   , 0.        ],\n",
              "       [4.459279  , 0.        , 0.        , 4.265618  , 0.        ,\n",
              "        2.7767386 , 0.28385615, 0.        , 1.5186286 , 0.        ],\n",
              "       [3.3813488 , 0.6856073 , 0.        , 5.639885  , 0.        ,\n",
              "        4.2465253 , 0.07171637, 2.0491588 , 1.0050831 , 0.        ],\n",
              "       [4.820467  , 0.        , 0.        , 7.1611485 , 0.75623137,\n",
              "        5.271007  , 0.29216692, 0.46482095, 2.6835186 , 0.        ]],\n",
              "      dtype=float32)>"
            ]
          },
          "metadata": {},
          "execution_count": 25
        }
      ]
    },
    {
      "cell_type": "code",
      "source": [],
      "metadata": {
        "id": "lcjTn7PDTLWo"
      },
      "execution_count": null,
      "outputs": []
    }
  ]
}